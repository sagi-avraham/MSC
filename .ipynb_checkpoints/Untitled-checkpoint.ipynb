{
 "cells": [
  {
   "cell_type": "code",
   "execution_count": 10,
   "id": "9fcf62cf-7a64-4a86-b25c-55b3c2f7eb25",
   "metadata": {},
   "outputs": [
    {
     "name": "stdout",
     "output_type": "stream",
     "text": [
      "Total TP: 191143.0\n",
      "Total FP: 12.0\n",
      "Total TN: 619041.0\n",
      "Total FN: 9004.0\n",
      "Percentage TP: 0.47%\n",
      "Percentage FP: 0.00%\n",
      "Percentage TN: 1.51%\n",
      "Percentage FN: 0.02%\n"
     ]
    }
   ],
   "source": [
    "import pandas as pd\n",
    "\n",
    "# Load the data from the text file\n",
    "filename = 'evaluation_results.txt'\n",
    "data = pd.read_csv(filename, delimiter=',')  # Adjust delimiter if needed\n",
    "\n",
    "# Extract TP, FP, TN, FN columns\n",
    "tp_values = data['TP'].values\n",
    "fp_values = data['FP'].values\n",
    "tn_values = data['TN'].values\n",
    "fn_values = data['FN'].values\n",
    "\n",
    "# Total number of data points per piece of data\n",
    "num_data_points_per_piece = 4096*100\n",
    "\n",
    "# Total number of pieces of data\n",
    "num_pieces_of_data = 100\n",
    "\n",
    "# Calculate total data points\n",
    "total_data_points = num_data_points_per_piece * num_pieces_of_data\n",
    "\n",
    "# Sum up all values\n",
    "total_tp = np.sum(tp_values)\n",
    "total_fp = np.sum(fp_values)\n",
    "total_tn = np.sum(tn_values)\n",
    "total_fn = np.sum(fn_values)\n",
    "\n",
    "# Calculate percentages\n",
    "percentage_tp = (total_tp / total_data_points) * 100\n",
    "percentage_fp = (total_fp / total_data_points) * 100\n",
    "percentage_tn = (total_tn / total_data_points) * 100\n",
    "percentage_fn = (total_fn / total_data_points) * 100\n",
    "\n",
    "# Print the results\n",
    "print(f\"Total TP: {total_tp}\")\n",
    "print(f\"Total FP: {total_fp}\")\n",
    "print(f\"Total TN: {total_tn}\")\n",
    "print(f\"Total FN: {total_fn}\")\n",
    "print(f\"Percentage TP: {percentage_tp:.2f}%\")\n",
    "print(f\"Percentage FP: {percentage_fp:.2f}%\")\n",
    "print(f\"Percentage TN: {percentage_tn:.2f}%\")\n",
    "print(f\"Percentage FN: {percentage_fn:.2f}%\")\n"
   ]
  },
  {
   "cell_type": "code",
   "execution_count": null,
   "id": "8e24280d-0518-46bc-8e56-4d39a0f52511",
   "metadata": {},
   "outputs": [],
   "source": []
  }
 ],
 "metadata": {
  "kernelspec": {
   "display_name": "Python 3 (ipykernel)",
   "language": "python",
   "name": "python3"
  },
  "language_info": {
   "codemirror_mode": {
    "name": "ipython",
    "version": 3
   },
   "file_extension": ".py",
   "mimetype": "text/x-python",
   "name": "python",
   "nbconvert_exporter": "python",
   "pygments_lexer": "ipython3",
   "version": "3.8.19"
  }
 },
 "nbformat": 4,
 "nbformat_minor": 5
}
