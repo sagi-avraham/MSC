{
 "cells": [
  {
   "cell_type": "code",
   "execution_count": 5,
   "id": "7cadad69-017e-4dcb-a736-74826947553c",
   "metadata": {
    "scrolled": true
   },
   "outputs": [
    {
     "name": "stdout",
     "output_type": "stream",
     "text": [
      "(30, 4096)\n",
      "(4096, 20)\n",
      "(4096, 20)\n",
      "[[0. 0. 0. ... 0. 0. 0.]\n",
      " [0. 0. 0. ... 0. 0. 0.]\n",
      " [0. 0. 0. ... 0. 0. 0.]\n",
      " ...\n",
      " [0. 0. 0. ... 0. 0. 0.]\n",
      " [0. 0. 0. ... 0. 0. 0.]\n",
      " [0. 0. 0. ... 0. 0. 0.]]\n"
     ]
    }
   ],
   "source": [
    "import numpy as np\n",
    "import matplotlib.pyplot as plt\n",
    "\n",
    "# Load train and test data\n",
    "train_data = np.load('train.npy')  # Load first three samples from train.npy\n",
    "testlabels= np.load('trainlabels.npy')    # Load first three samples from test.npy\n",
    "trainlabels=np.load('testlabels.npy')\n",
    "\n",
    "print(testlabels.shape)\n",
    "print(train_data.shape)\n",
    "print(trainlabels.shape)\n",
    "print(trainlabels[1:])"
   ]
  },
  {
   "cell_type": "code",
   "execution_count": 4,
   "id": "ec9cd6dc-f7ac-45f6-8740-b0ef90bbbed5",
   "metadata": {},
   "outputs": [
    {
     "name": "stdout",
     "output_type": "stream",
     "text": [
      "signal\n",
      "no signal\n",
      "no signal\n",
      "signal\n",
      "no signal\n",
      "signal\n",
      "no signal\n",
      "no signal\n",
      "signal\n",
      "no signal\n",
      "(30, 4096)\n"
     ]
    }
   ],
   "source": [
    "import numpy as np\n",
    "\n",
    "# Load the new_labels.npy file\n",
    "new_labels = np.load('trainlabels.npy')\n",
    "\n",
    "# Iterate through each column in the new_labels array\n",
    "for i in range(0,10):\n",
    "    if np.any(new_labels[i].T == 1):\n",
    "        print('signal')\n",
    "    else:\n",
    "        print('no signal')\n",
    "print(new_labels.shape)\n"
   ]
  },
  {
   "cell_type": "code",
   "execution_count": null,
   "id": "0946bbee-7fec-4d66-b916-6128312c14b3",
   "metadata": {},
   "outputs": [],
   "source": []
  }
 ],
 "metadata": {
  "kernelspec": {
   "display_name": "Python 3 (ipykernel)",
   "language": "python",
   "name": "python3"
  },
  "language_info": {
   "codemirror_mode": {
    "name": "ipython",
    "version": 3
   },
   "file_extension": ".py",
   "mimetype": "text/x-python",
   "name": "python",
   "nbconvert_exporter": "python",
   "pygments_lexer": "ipython3",
   "version": "3.8.19"
  }
 },
 "nbformat": 4,
 "nbformat_minor": 5
}
