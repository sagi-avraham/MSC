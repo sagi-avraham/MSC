{
 "cells": [
  {
   "cell_type": "code",
   "execution_count": 5,
   "id": "c581cbf1-a2a2-4536-ac62-60e3b4c123b7",
   "metadata": {},
   "outputs": [
    {
     "name": "stdout",
     "output_type": "stream",
     "text": [
      "Error: The file anomolyscores.txt was not found.\n"
     ]
    }
   ],
   "source": [
    "import numpy as np\n",
    "import matplotlib.pyplot as plt\n",
    "\n",
    "# Path to the anomaly scores file\n",
    "file_path = 'anomalyscores.txt'\n",
    "\n",
    "# Initialize a list to store scores\n",
    "scores = []\n",
    "\n",
    "try:\n",
    "    # Read the scores from the file\n",
    "    with open(file_path, 'r') as file:\n",
    "        for line in file:\n",
    "            stripped_line = line.strip()\n",
    "            if stripped_line:  # Make sure the line is not empty\n",
    "                try:\n",
    "                    scores.append(float(stripped_line))\n",
    "                except ValueError:\n",
    "                    print(f\"Warning: Skipping invalid data '{stripped_line}'\")\n",
    "\n",
    "    # Convert the list of scores to a numpy array\n",
    "    scores = np.array(scores)\n",
    "\n",
    "    # Check if we have any scores to plot\n",
    "    if len(scores) == 0:\n",
    "        print(\"No valid scores to plot.\")\n",
    "    else:\n",
    "        # Plot the scores as a histogram\n",
    "        plt.figure(figsize=(10, 6))\n",
    "        plt.hist(scores, bins=100, alpha=0.75, edgecolor='black')\n",
    "        plt.xlabel('Score')\n",
    "        plt.ylabel('Frequency')\n",
    "        plt.title('Distribution of Anomaly Scores')\n",
    "        plt.yscale('log')  # Set the y-axis to log scale\n",
    "        plt.grid(True, which='both', linestyle='--', linewidth=0.5)\n",
    "        plt.show()\n",
    "\n",
    "except FileNotFoundError:\n",
    "    print(f\"Error: The file {file_path} was not found.\")\n",
    "except Exception as e:\n",
    "    print(f\"An error occurred: {e}\")"
   ]
  },
  {
   "cell_type": "code",
   "execution_count": 2,
   "id": "cf0d3004-97da-4c5d-ba21-f67f1f7e96d0",
   "metadata": {},
   "outputs": [
    {
     "ename": "NameError",
     "evalue": "name 'scores' is not defined",
     "output_type": "error",
     "traceback": [
      "\u001b[0;31m---------------------------------------------------------------------------\u001b[0m",
      "\u001b[0;31mNameError\u001b[0m                                 Traceback (most recent call last)",
      "Cell \u001b[0;32mIn[2], line 1\u001b[0m\n\u001b[0;32m----> 1\u001b[0m \u001b[38;5;28mprint\u001b[39m(\u001b[38;5;28mmax\u001b[39m(\u001b[43mscores\u001b[49m))\n",
      "\u001b[0;31mNameError\u001b[0m: name 'scores' is not defined"
     ]
    }
   ],
   "source": [
    "print(max(scores))"
   ]
  },
  {
   "cell_type": "code",
   "execution_count": null,
   "id": "f01f9f9f-f0cb-422d-814d-4232f5777947",
   "metadata": {},
   "outputs": [],
   "source": []
  }
 ],
 "metadata": {
  "kernelspec": {
   "display_name": "Python 3 (ipykernel)",
   "language": "python",
   "name": "python3"
  },
  "language_info": {
   "codemirror_mode": {
    "name": "ipython",
    "version": 3
   },
   "file_extension": ".py",
   "mimetype": "text/x-python",
   "name": "python",
   "nbconvert_exporter": "python",
   "pygments_lexer": "ipython3",
   "version": "3.8.19"
  }
 },
 "nbformat": 4,
 "nbformat_minor": 5
}
